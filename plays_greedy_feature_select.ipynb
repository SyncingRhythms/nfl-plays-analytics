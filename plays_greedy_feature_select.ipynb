{
 "cells": [
  {
   "cell_type": "code",
   "execution_count": 1,
   "metadata": {
    "collapsed": false
   },
   "outputs": [],
   "source": [
    "import re, math\n",
    "import pandas as pd\n",
    "import numpy as np\n",
    "import scipy as sp\n",
    "import matplotlib.pyplot as plt\n",
    "import nfldb\n",
    "import sys\n",
    "import matplotlib as mpl\n",
    "import seaborn as sns\n",
    "from __future__ import division\n",
    "import scipy.stats as st\n",
    "import statsmodels.api as sm\n",
    "from statsmodels.stats.multicomp import pairwise_tukeyhsd\n",
    "from statsmodels.stats.libqsturng import psturng\n",
    "from statsmodels.formula.api import ols\n",
    "from sklearn.feature_selection import RFECV\n",
    "from sklearn.linear_model import LogisticRegression\n",
    "from sklearn.model_selection import KFold\n",
    "# configure matplotlib plots\n",
    "%matplotlib inline\n",
    "mpl.rcParams['font.size'] = 14\n",
    "mpl.rcParams['figure.figsize'] = [12, 9]#[10, 7.5]\n",
    "mpl.rcParams['figure.dpi'] = 90\n",
    "mpl.rcParams['savefig.dpi'] = 100\n",
    "# configure seaborn plots\n",
    "sns.set(style=\"whitegrid\", color_codes=True)\n",
    "\n",
    "yrType = '2016 Regular Season'"
   ]
  },
  {
   "cell_type": "code",
   "execution_count": 3,
   "metadata": {
    "collapsed": true
   },
   "outputs": [],
   "source": [
    "# functions\n",
    "def icol(df, cols):\n",
    "    return [i for i, dfCol in enumerate(df.columns) for col in cols if dfCol==col]\n",
    "\n",
    "def appStrs(cols, string):\n",
    "    return [c + string for c in cols]"
   ]
  },
  {
   "cell_type": "code",
   "execution_count": 4,
   "metadata": {
    "collapsed": false
   },
   "outputs": [],
   "source": [
    "# load proccessed data\n",
    "plays = pd.read_csv('data/2016_reg_plays_gd.csv')"
   ]
  },
  {
   "cell_type": "code",
   "execution_count": 5,
   "metadata": {
    "collapsed": false
   },
   "outputs": [],
   "source": [
    "# play lables\n",
    "playType = ['pass', 'rush']\n",
    "playDir = ['left', 'up the middle', 'right']\n",
    "playCols = [t + '_' + d[-6:] for t in playType for d in playDir]\n",
    "# Feature column names: primarily cum sum stats columns - initially\n",
    "col2cum = [c for c in plays.columns for x in ['type', 'dir', 'first', 'third', 'fourth', 'offense', 'passing', 'receiving', 'rushing'] if c.startswith(x) and not c.endswith('downs') and not c.endswith('_sh1') and not c.endswith('cum_dr') and not c.endswith('cum_gm')]\n",
    "gcumCols = appStrs(col2cum, '_cum_gm')\n",
    "dcumCols = appStrs(col2cum, '_cum_dr')\n",
    "cumCols = gcumCols + dcumCols\n",
    "prevPlay = appStrs(col2cum, '_sh1')\n",
    "plays.pos_team = plays.pos_team.astype('category')\n",
    "plays['pos_team_code'] = plays.pos_team.cat.codes\n",
    "### - INCORPORATE THESE INTO plays_setup in future feature engineering\n",
    "# DRIVE cumulative stats: fill NaN in columns with 0\n",
    "plays[dcumCols] = plays[dcumCols].fillna(0)\n",
    "# GAME cumulative stats: fill NaN in columns with forward fill\n",
    "plays[gcumCols] = plays.groupby(['gsis_id', 'pos_team'])[gcumCols].fillna(method='ffill')\n",
    "# GAME: cumulative stats: fill first play of game with 0\n",
    "plays[gcumCols] = plays[gcumCols].fillna(0)\n",
    "# Noncumulative, shifted stats: fill first play of game with 0\n",
    "plays[prevPlay] = plays[prevPlay].fillna(0)\n",
    "###\n",
    "plays.play = plays.play.astype('category')\n",
    "plays['play_code'] = plays.play.cat.codes\n",
    "plays.play_type = plays.play_type.astype('category')\n",
    "plays['play_type_code'] = plays.play_type.cat.codes\n",
    "plays.play_dir = plays.play_dir.astype('category')\n",
    "plays['play_dir_code'] = plays.play_dir.cat.codes"
   ]
  },
  {
   "cell_type": "code",
   "execution_count": 6,
   "metadata": {
    "collapsed": false
   },
   "outputs": [
    {
     "data": {
      "text/html": [
       "<div>\n",
       "<table border=\"1\" class=\"dataframe\">\n",
       "  <thead>\n",
       "    <tr style=\"text-align: right;\">\n",
       "      <th></th>\n",
       "      <th>gsis_id</th>\n",
       "      <th>pos_team</th>\n",
       "      <th>drive_id</th>\n",
       "      <th>description</th>\n",
       "      <th>down</th>\n",
       "      <th>drive</th>\n",
       "      <th>first_down</th>\n",
       "      <th>fourth_down_att</th>\n",
       "      <th>fourth_down_conv</th>\n",
       "      <th>fourth_down_failed</th>\n",
       "      <th>...</th>\n",
       "      <th>def_SF</th>\n",
       "      <th>def_TB</th>\n",
       "      <th>def_TEN</th>\n",
       "      <th>def_WAS</th>\n",
       "      <th>day_Monday</th>\n",
       "      <th>day_Saturday</th>\n",
       "      <th>day_Sunday</th>\n",
       "      <th>day_Thursday</th>\n",
       "      <th>play_type_code</th>\n",
       "      <th>play_dir_code</th>\n",
       "    </tr>\n",
       "  </thead>\n",
       "  <tbody>\n",
       "    <tr>\n",
       "      <th>0</th>\n",
       "      <td>2016090800</td>\n",
       "      <td>CAR</td>\n",
       "      <td>2</td>\n",
       "      <td>(11:37) J.Stewart up the middle to CAR 35 for ...</td>\n",
       "      <td>1.0</td>\n",
       "      <td>[Touchdown   ] CAR from OWN 29 to OPP 14 (last...</td>\n",
       "      <td>0</td>\n",
       "      <td>0</td>\n",
       "      <td>0</td>\n",
       "      <td>0</td>\n",
       "      <td>...</td>\n",
       "      <td>0</td>\n",
       "      <td>0</td>\n",
       "      <td>0</td>\n",
       "      <td>0</td>\n",
       "      <td>0</td>\n",
       "      <td>0</td>\n",
       "      <td>0</td>\n",
       "      <td>1</td>\n",
       "      <td>1</td>\n",
       "      <td>1</td>\n",
       "    </tr>\n",
       "    <tr>\n",
       "      <th>1</th>\n",
       "      <td>2016090800</td>\n",
       "      <td>CAR</td>\n",
       "      <td>2</td>\n",
       "      <td>(11:01) (Shotgun) J.Stewart left end to CAR 46...</td>\n",
       "      <td>2.0</td>\n",
       "      <td>[Touchdown   ] CAR from OWN 29 to OPP 14 (last...</td>\n",
       "      <td>1</td>\n",
       "      <td>0</td>\n",
       "      <td>0</td>\n",
       "      <td>0</td>\n",
       "      <td>...</td>\n",
       "      <td>0</td>\n",
       "      <td>0</td>\n",
       "      <td>0</td>\n",
       "      <td>0</td>\n",
       "      <td>0</td>\n",
       "      <td>0</td>\n",
       "      <td>0</td>\n",
       "      <td>1</td>\n",
       "      <td>1</td>\n",
       "      <td>0</td>\n",
       "    </tr>\n",
       "    <tr>\n",
       "      <th>2</th>\n",
       "      <td>2016090800</td>\n",
       "      <td>CAR</td>\n",
       "      <td>2</td>\n",
       "      <td>(10:21) (Shotgun) M.Tolbert right guard to CAR...</td>\n",
       "      <td>1.0</td>\n",
       "      <td>[Touchdown   ] CAR from OWN 29 to OPP 14 (last...</td>\n",
       "      <td>0</td>\n",
       "      <td>0</td>\n",
       "      <td>0</td>\n",
       "      <td>0</td>\n",
       "      <td>...</td>\n",
       "      <td>0</td>\n",
       "      <td>0</td>\n",
       "      <td>0</td>\n",
       "      <td>0</td>\n",
       "      <td>0</td>\n",
       "      <td>0</td>\n",
       "      <td>0</td>\n",
       "      <td>1</td>\n",
       "      <td>1</td>\n",
       "      <td>2</td>\n",
       "    </tr>\n",
       "    <tr>\n",
       "      <th>3</th>\n",
       "      <td>2016090800</td>\n",
       "      <td>CAR</td>\n",
       "      <td>2</td>\n",
       "      <td>(9:39) (Shotgun) C.Newton pass incomplete shor...</td>\n",
       "      <td>2.0</td>\n",
       "      <td>[Touchdown   ] CAR from OWN 29 to OPP 14 (last...</td>\n",
       "      <td>0</td>\n",
       "      <td>0</td>\n",
       "      <td>0</td>\n",
       "      <td>0</td>\n",
       "      <td>...</td>\n",
       "      <td>0</td>\n",
       "      <td>0</td>\n",
       "      <td>0</td>\n",
       "      <td>0</td>\n",
       "      <td>0</td>\n",
       "      <td>0</td>\n",
       "      <td>0</td>\n",
       "      <td>1</td>\n",
       "      <td>0</td>\n",
       "      <td>1</td>\n",
       "    </tr>\n",
       "    <tr>\n",
       "      <th>4</th>\n",
       "      <td>2016090800</td>\n",
       "      <td>CAR</td>\n",
       "      <td>2</td>\n",
       "      <td>(9:35) (Shotgun) C.Newton pass deep middle to ...</td>\n",
       "      <td>3.0</td>\n",
       "      <td>[Touchdown   ] CAR from OWN 29 to OPP 14 (last...</td>\n",
       "      <td>1</td>\n",
       "      <td>0</td>\n",
       "      <td>0</td>\n",
       "      <td>0</td>\n",
       "      <td>...</td>\n",
       "      <td>0</td>\n",
       "      <td>0</td>\n",
       "      <td>0</td>\n",
       "      <td>0</td>\n",
       "      <td>0</td>\n",
       "      <td>0</td>\n",
       "      <td>0</td>\n",
       "      <td>1</td>\n",
       "      <td>0</td>\n",
       "      <td>1</td>\n",
       "    </tr>\n",
       "  </tbody>\n",
       "</table>\n",
       "<p>5 rows × 329 columns</p>\n",
       "</div>"
      ],
      "text/plain": [
       "      gsis_id pos_team  drive_id  \\\n",
       "0  2016090800      CAR         2   \n",
       "1  2016090800      CAR         2   \n",
       "2  2016090800      CAR         2   \n",
       "3  2016090800      CAR         2   \n",
       "4  2016090800      CAR         2   \n",
       "\n",
       "                                         description  down  \\\n",
       "0  (11:37) J.Stewart up the middle to CAR 35 for ...   1.0   \n",
       "1  (11:01) (Shotgun) J.Stewart left end to CAR 46...   2.0   \n",
       "2  (10:21) (Shotgun) M.Tolbert right guard to CAR...   1.0   \n",
       "3  (9:39) (Shotgun) C.Newton pass incomplete shor...   2.0   \n",
       "4  (9:35) (Shotgun) C.Newton pass deep middle to ...   3.0   \n",
       "\n",
       "                                               drive  first_down  \\\n",
       "0  [Touchdown   ] CAR from OWN 29 to OPP 14 (last...           0   \n",
       "1  [Touchdown   ] CAR from OWN 29 to OPP 14 (last...           1   \n",
       "2  [Touchdown   ] CAR from OWN 29 to OPP 14 (last...           0   \n",
       "3  [Touchdown   ] CAR from OWN 29 to OPP 14 (last...           0   \n",
       "4  [Touchdown   ] CAR from OWN 29 to OPP 14 (last...           1   \n",
       "\n",
       "   fourth_down_att  fourth_down_conv  fourth_down_failed      ...       \\\n",
       "0                0                 0                   0      ...        \n",
       "1                0                 0                   0      ...        \n",
       "2                0                 0                   0      ...        \n",
       "3                0                 0                   0      ...        \n",
       "4                0                 0                   0      ...        \n",
       "\n",
       "   def_SF  def_TB  def_TEN  def_WAS  day_Monday  day_Saturday  day_Sunday  \\\n",
       "0       0       0        0        0           0             0           0   \n",
       "1       0       0        0        0           0             0           0   \n",
       "2       0       0        0        0           0             0           0   \n",
       "3       0       0        0        0           0             0           0   \n",
       "4       0       0        0        0           0             0           0   \n",
       "\n",
       "   day_Thursday  play_type_code play_dir_code  \n",
       "0             1               1             1  \n",
       "1             1               1             0  \n",
       "2             1               1             2  \n",
       "3             1               0             1  \n",
       "4             1               0             1  \n",
       "\n",
       "[5 rows x 329 columns]"
      ]
     },
     "execution_count": 6,
     "metadata": {},
     "output_type": "execute_result"
    }
   ],
   "source": [
    "plays = plays.drop(['Unnamed: 0'], axis=1)#, 'Unnamed: 0.1', 'Unnamed: 0.1.1'], axis=1)\n",
    "plays.head()"
   ]
  },
  {
   "cell_type": "markdown",
   "metadata": {
    "collapsed": true
   },
   "source": [
    "# Potential feature predictors"
   ]
  },
  {
   "cell_type": "code",
   "execution_count": 53,
   "metadata": {
    "collapsed": true
   },
   "outputs": [],
   "source": [
    "# incoporate new features and dummy cols in features array\n",
    "adfeat = ['quarter_code', 'qtr_timef', 'down', 'yards_to_go', 'score_diff', 'week', 'home', 'yardfield']\n",
    "dumPrefix = ['off_', 'def_', 'day_']\n",
    "catExc = ['pos_team', 'def_team', 'day_of_week']\n",
    "dumCols = [c for c in plays.columns for d in dumPrefix if c.startswith(d) and c not in catExc]\n",
    "features = cumCols + prevPlay + adfeat + dumCols\n",
    "features = np.load('data/features_dum.npy')\n",
    "# not in ['rushing_loss_cum_gm', 'rushing_loss_yds_cum_gm']\n",
    "features = [f for f in features if not f.startswith('rushing_loss') and f not in ['passing_int_cum_dr']]"
   ]
  },
  {
   "cell_type": "code",
   "execution_count": 28,
   "metadata": {
    "collapsed": false
   },
   "outputs": [
    {
     "data": {
      "text/plain": [
       "array(['first_down_cum_gm', 'fourth_down_att_cum_gm',\n",
       "       'fourth_down_failed_cum_gm', 'offense_tds_cum_gm',\n",
       "       'offense_yds_cum_gm', 'passing_att_cum_gm', 'passing_cmp_cum_gm',\n",
       "       'passing_first_down_cum_gm', 'passing_incmp_cum_gm',\n",
       "       'passing_incmp_air_yds_cum_gm', 'passing_int_cum_gm',\n",
       "       'passing_sk_cum_gm', 'passing_sk_yds_cum_gm', 'passing_tds_cum_gm',\n",
       "       'passing_yds_cum_gm', 'receiving_rec_cum_gm',\n",
       "       'receiving_tds_cum_gm', 'receiving_yac_yds_cum_gm',\n",
       "       'rushing_att_cum_gm', 'rushing_first_down_cum_gm',\n",
       "       'rushing_tds_cum_gm', 'rushing_yds_cum_gm', 'third_down_att_cum_gm',\n",
       "       'third_down_conv_cum_gm', 'third_down_failed_cum_gm',\n",
       "       'type_pass_cum_gm', 'type_rush_cum_gm', 'dir_left_cum_gm',\n",
       "       'dir_middle_cum_gm', 'dir_right_cum_gm', 'first_down_cum_dr',\n",
       "       'fourth_down_att_cum_dr', 'fourth_down_failed_cum_dr',\n",
       "       'offense_tds_cum_dr', 'offense_yds_cum_dr', 'passing_att_cum_dr',\n",
       "       'passing_cmp_cum_dr', 'passing_cmp_air_yds_cum_dr',\n",
       "       'passing_first_down_cum_dr', 'passing_incmp_cum_dr',\n",
       "       'passing_incmp_air_yds_cum_dr', 'passing_sk_cum_dr',\n",
       "       'passing_sk_yds_cum_dr', 'passing_tds_cum_dr', 'passing_yds_cum_dr',\n",
       "       'receiving_rec_cum_dr', 'receiving_tds_cum_dr',\n",
       "       'receiving_yac_yds_cum_dr', 'rushing_att_cum_dr',\n",
       "       'rushing_tds_cum_dr', 'rushing_yds_cum_dr', 'third_down_att_cum_dr',\n",
       "       'third_down_conv_cum_dr', 'type_pass_cum_dr', 'type_rush_cum_dr',\n",
       "       'dir_left_cum_dr', 'dir_middle_cum_dr', 'dir_right_cum_dr',\n",
       "       'first_down_sh1', 'fourth_down_att_sh1', 'fourth_down_conv_sh1',\n",
       "       'fourth_down_failed_sh1', 'offense_yds_sh1', 'passing_att_sh1',\n",
       "       'passing_cmp_sh1', 'passing_cmp_air_yds_sh1',\n",
       "       'passing_first_down_sh1', 'passing_incmp_sh1',\n",
       "       'passing_incmp_air_yds_sh1', 'passing_int_sh1', 'passing_sk_sh1',\n",
       "       'passing_sk_yds_sh1', 'passing_tds_sh1', 'passing_yds_sh1',\n",
       "       'receiving_rec_sh1', 'receiving_tds_sh1', 'receiving_yac_yds_sh1',\n",
       "       'rushing_att_sh1', 'rushing_first_down_sh1', 'rushing_tds_sh1',\n",
       "       'rushing_yds_sh1', 'third_down_conv_sh1', 'type_pass_sh1',\n",
       "       'type_rush_sh1', 'dir_left_sh1', 'dir_middle_sh1', 'dir_right_sh1',\n",
       "       'quarter_code', 'qtr_timef', 'down', 'yards_to_go', 'score_diff',\n",
       "       'week', 'home', 'yardfield', 'off_ARI', 'off_ATL', 'off_BAL',\n",
       "       'off_BUF', 'off_CAR', 'off_CHI', 'off_CIN', 'off_CLE', 'off_DAL',\n",
       "       'off_DEN', 'off_DET', 'off_GB', 'off_HOU', 'off_IND', 'off_JAC',\n",
       "       'off_KC', 'off_LA', 'off_MIA', 'off_MIN', 'off_NE', 'off_NO',\n",
       "       'off_NYG', 'off_NYJ', 'off_OAK', 'off_PHI', 'off_PIT', 'off_SD',\n",
       "       'off_SEA', 'off_SF', 'off_TB', 'off_TEN', 'off_WAS', 'def_ARI',\n",
       "       'def_ATL', 'def_BAL', 'def_BUF', 'def_CAR', 'def_CHI', 'def_CIN',\n",
       "       'def_CLE', 'def_DAL', 'def_DEN', 'def_DET', 'def_GB', 'def_HOU',\n",
       "       'def_IND', 'def_JAC', 'def_KC', 'def_LA', 'def_MIA', 'def_MIN',\n",
       "       'def_NE', 'def_NO', 'def_NYG', 'def_NYJ', 'def_OAK', 'def_PHI',\n",
       "       'def_PIT', 'def_SD', 'def_SEA', 'def_SF', 'def_TB', 'def_TEN',\n",
       "       'def_WAS', 'day_Monday', 'day_Saturday', 'day_Sunday',\n",
       "       'day_Thursday'], \n",
       "      dtype='|S28')"
      ]
     },
     "execution_count": 28,
     "metadata": {},
     "output_type": "execute_result"
    }
   ],
   "source": [
    "# features = [f for f in features if not f.startswith('type') and not f.startswith('dir')]\n",
    "features = np.array(features)\n",
    "features"
   ]
  },
  {
   "cell_type": "markdown",
   "metadata": {
    "collapsed": true
   },
   "source": [
    "# Greedy Feature Selection based on Logistic Regression coefficients \n",
    "w/ 3-fold Cross validation"
   ]
  },
  {
   "cell_type": "markdown",
   "metadata": {},
   "source": [
    "## Target: Play (play type and play direction combined)"
   ]
  },
  {
   "cell_type": "code",
   "execution_count": null,
   "metadata": {
    "collapsed": false,
    "scrolled": true
   },
   "outputs": [],
   "source": [
    "# 6 class play\n",
    "# greedy recursive feature elimination by 3-fold cross-validation\n",
    "cv_n = 3\n",
    "seed = 9\n",
    "kf = KFold(n_splits=cv_n, random_state=seed)\n",
    "lr = LogisticRegression(multi_class='multinomial', solver='lbfgs', class_weight='balanced')\n",
    "featSelect = RFECV(lr, step=1, cv=kf, n_jobs=-1)\n",
    "featSelect.fit(plays[features], plays.play)\n",
    "features[featSelect.support_]"
   ]
  },
  {
   "cell_type": "code",
   "execution_count": 16,
   "metadata": {
    "collapsed": false
   },
   "outputs": [
    {
     "data": {
      "text/plain": [
       "array(['offense_tds_cum_gm', 'rushing_att_cum_gm',\n",
       "       'third_down_conv_cum_gm', 'type_rush_cum_gm', 'dir_middle_cum_gm',\n",
       "       'dir_right_cum_gm', 'passing_att_cum_dr', 'passing_cmp_cum_dr',\n",
       "       'passing_incmp_cum_dr', 'receiving_rec_cum_dr',\n",
       "       'third_down_att_cum_dr', 'third_down_conv_cum_dr',\n",
       "       'type_pass_cum_dr', 'type_rush_cum_dr', 'dir_left_cum_dr',\n",
       "       'dir_middle_cum_dr', 'dir_right_cum_dr', 'first_down_sh1',\n",
       "       'offense_yds_sh1', 'passing_att_sh1', 'passing_cmp_sh1',\n",
       "       'passing_first_down_sh1', 'passing_yds_sh1', 'receiving_rec_sh1',\n",
       "       'rushing_att_sh1', 'rushing_yds_sh1', 'type_pass_sh1',\n",
       "       'type_rush_sh1', 'qtr_timef', 'down', 'yards_to_go', 'score_diff'], \n",
       "      dtype='|S28')"
      ]
     },
     "execution_count": 16,
     "metadata": {},
     "output_type": "execute_result"
    }
   ],
   "source": [
    "features[featSelect.support_]"
   ]
  },
  {
   "cell_type": "markdown",
   "metadata": {},
   "source": [
    "## Target: Play Type"
   ]
  },
  {
   "cell_type": "code",
   "execution_count": 29,
   "metadata": {
    "collapsed": false
   },
   "outputs": [
    {
     "data": {
      "text/plain": [
       "array(['fourth_down_att_cum_gm', 'fourth_down_failed_cum_gm',\n",
       "       'passing_int_cum_gm', 'passing_sk_yds_cum_gm',\n",
       "       'receiving_rec_cum_gm', 'type_rush_cum_gm', 'first_down_cum_dr',\n",
       "       'passing_att_cum_dr', 'passing_cmp_cum_dr',\n",
       "       'passing_first_down_cum_dr', 'passing_incmp_cum_dr',\n",
       "       'passing_sk_yds_cum_dr', 'receiving_rec_cum_dr',\n",
       "       'third_down_att_cum_dr', 'third_down_conv_cum_dr',\n",
       "       'type_pass_cum_dr', 'first_down_sh1', 'fourth_down_att_sh1',\n",
       "       'offense_yds_sh1', 'passing_att_sh1', 'passing_cmp_sh1',\n",
       "       'passing_cmp_air_yds_sh1', 'passing_first_down_sh1',\n",
       "       'passing_incmp_sh1', 'passing_int_sh1', 'passing_sk_yds_sh1',\n",
       "       'passing_yds_sh1', 'receiving_rec_sh1', 'receiving_yac_yds_sh1',\n",
       "       'rushing_tds_sh1', 'rushing_yds_sh1', 'third_down_conv_sh1',\n",
       "       'type_pass_sh1', 'type_rush_sh1', 'dir_middle_sh1', 'dir_right_sh1',\n",
       "       'quarter_code', 'qtr_timef', 'down', 'yards_to_go', 'score_diff',\n",
       "       'home', 'off_ARI', 'off_ATL', 'off_BAL', 'off_BUF', 'off_CAR',\n",
       "       'off_CIN', 'off_CLE', 'off_DAL', 'off_DEN', 'off_DET', 'off_GB',\n",
       "       'off_HOU', 'off_IND', 'off_JAC', 'off_KC', 'off_LA', 'off_MIA',\n",
       "       'off_MIN', 'off_NO', 'off_NYJ', 'off_OAK', 'off_PHI', 'off_SEA',\n",
       "       'off_SF', 'off_TB', 'off_TEN', 'def_ARI', 'def_ATL', 'def_BAL',\n",
       "       'def_BUF', 'def_CAR', 'def_CHI', 'def_CLE', 'def_DAL', 'def_DEN',\n",
       "       'def_HOU', 'def_IND', 'def_JAC', 'def_LA', 'def_NE', 'def_NO',\n",
       "       'def_NYG', 'def_OAK', 'def_SD', 'def_SEA', 'def_SF', 'def_TB',\n",
       "       'def_TEN', 'day_Monday', 'day_Sunday', 'day_Thursday'], \n",
       "      dtype='|S28')"
      ]
     },
     "execution_count": 29,
     "metadata": {},
     "output_type": "execute_result"
    }
   ],
   "source": [
    "# Binary play type (pass vs rush)\n",
    "# greedy recursive feature elimination by 3-fold cross-validation\n",
    "cv_n = 3\n",
    "seed = 9\n",
    "kf = KFold(n_splits=cv_n, random_state=seed)\n",
    "lr = LogisticRegression(multi_class='ovr', solver='lbfgs', class_weight='balanced')\n",
    "fSelect_type = RFECV(lr, step=1, cv=kf, n_jobs=-1)\n",
    "fSelect_type.fit(plays[features], plays.play_type_code)\n",
    "features[fSelect_type.support_]"
   ]
  },
  {
   "cell_type": "code",
   "execution_count": 22,
   "metadata": {
    "collapsed": false
   },
   "outputs": [
    {
     "data": {
      "text/plain": [
       "array(['fourth_down_att_cum_gm', 'passing_att_cum_gm',\n",
       "       'passing_sk_yds_cum_gm', 'receiving_tds_cum_gm',\n",
       "       'rushing_att_cum_gm', 'first_down_cum_dr', 'passing_att_cum_dr',\n",
       "       'passing_cmp_cum_dr', 'passing_incmp_cum_dr',\n",
       "       'passing_sk_yds_cum_dr', 'receiving_rec_cum_dr',\n",
       "       'third_down_att_cum_dr', 'offense_yds_sh1', 'passing_att_sh1',\n",
       "       'passing_cmp_sh1', 'passing_cmp_air_yds_sh1',\n",
       "       'passing_first_down_sh1', 'passing_incmp_sh1', 'passing_int_sh1',\n",
       "       'passing_sk_yds_sh1', 'passing_yds_sh1', 'receiving_rec_sh1',\n",
       "       'receiving_yac_yds_sh1', 'rushing_first_down_sh1',\n",
       "       'rushing_tds_sh1', 'rushing_yds_sh1', 'third_down_conv_sh1',\n",
       "       'quarter_code', 'qtr_timef', 'down', 'yards_to_go', 'score_diff',\n",
       "       'home', 'off_ARI', 'off_ATL', 'off_BAL', 'off_BUF', 'off_CAR',\n",
       "       'off_CHI', 'off_CIN', 'off_CLE', 'off_DAL', 'off_DEN', 'off_DET',\n",
       "       'off_GB', 'off_HOU', 'off_IND', 'off_JAC', 'off_KC', 'off_LA',\n",
       "       'off_MIA', 'off_MIN', 'off_NO', 'off_NYJ', 'off_OAK', 'off_PHI',\n",
       "       'off_PIT', 'off_SEA', 'off_SF', 'off_TB', 'off_TEN', 'def_ARI',\n",
       "       'def_BAL', 'def_BUF', 'def_CAR', 'def_CHI', 'def_CLE', 'def_DAL',\n",
       "       'def_DEN', 'def_IND', 'def_JAC', 'def_LA', 'def_NE', 'def_NO',\n",
       "       'def_NYG', 'def_PHI', 'def_SD', 'def_SEA', 'def_SF', 'def_TB',\n",
       "       'def_TEN', 'day_Monday', 'day_Sunday', 'day_Thursday'], \n",
       "      dtype='|S28')"
      ]
     },
     "execution_count": 22,
     "metadata": {},
     "output_type": "execute_result"
    }
   ],
   "source": [
    "# Binary play type (pass vs rush)\n",
    "# greedy recursive feature elimination by 3-fold cross-validation\n",
    "cv_n = 3\n",
    "seed = 9\n",
    "kf = KFold(n_splits=cv_n, random_state=seed)\n",
    "lr = LogisticRegression(multi_class='ovr', solver='lbfgs', class_weight='balanced')\n",
    "fSelect_type = RFECV(lr, step=1, cv=kf, n_jobs=-1)\n",
    "fSelect_type.fit(plays[features], plays.play_type_code)\n",
    "features[fSelect_type.support_]"
   ]
  },
  {
   "cell_type": "code",
   "execution_count": 32,
   "metadata": {
    "collapsed": false
   },
   "outputs": [
    {
     "data": {
      "text/plain": [
       "93"
      ]
     },
     "execution_count": 32,
     "metadata": {},
     "output_type": "execute_result"
    }
   ],
   "source": [
    "fSelect_type.n_features_"
   ]
  },
  {
   "cell_type": "markdown",
   "metadata": {},
   "source": [
    "## Target: Play Direction"
   ]
  },
  {
   "cell_type": "code",
   "execution_count": 30,
   "metadata": {
    "collapsed": false
   },
   "outputs": [
    {
     "data": {
      "text/plain": [
       "array(['first_down_cum_gm', 'fourth_down_att_cum_gm', 'offense_tds_cum_gm',\n",
       "       'offense_yds_cum_gm', 'passing_cmp_cum_gm',\n",
       "       'passing_first_down_cum_gm', 'passing_incmp_cum_gm',\n",
       "       'passing_int_cum_gm', 'passing_sk_yds_cum_gm', 'passing_yds_cum_gm',\n",
       "       'receiving_rec_cum_gm', 'rushing_att_cum_gm',\n",
       "       'rushing_first_down_cum_gm', 'rushing_tds_cum_gm',\n",
       "       'rushing_yds_cum_gm', 'third_down_att_cum_gm',\n",
       "       'third_down_failed_cum_gm', 'type_pass_cum_gm', 'dir_left_cum_gm',\n",
       "       'dir_middle_cum_gm', 'dir_right_cum_gm', 'first_down_cum_dr',\n",
       "       'passing_first_down_cum_dr', 'passing_incmp_cum_dr',\n",
       "       'type_pass_cum_dr', 'dir_left_cum_dr', 'dir_middle_cum_dr',\n",
       "       'dir_right_cum_dr', 'first_down_sh1', 'passing_att_sh1',\n",
       "       'passing_first_down_sh1', 'rushing_att_sh1',\n",
       "       'rushing_first_down_sh1', 'third_down_conv_sh1', 'type_pass_sh1',\n",
       "       'type_rush_sh1', 'dir_left_sh1', 'dir_middle_sh1', 'dir_right_sh1',\n",
       "       'quarter_code', 'qtr_timef', 'down', 'off_BAL', 'off_BUF',\n",
       "       'off_CHI', 'off_CIN', 'off_CLE', 'off_GB', 'off_HOU', 'off_IND',\n",
       "       'off_KC', 'off_MIA', 'off_NE', 'off_NO', 'off_OAK', 'off_PHI',\n",
       "       'off_SD', 'off_WAS', 'def_CAR', 'def_CHI', 'def_CLE', 'def_DEN',\n",
       "       'def_KC', 'def_OAK', 'def_SEA', 'def_SF', 'day_Monday', 'day_Sunday'], \n",
       "      dtype='|S28')"
      ]
     },
     "execution_count": 30,
     "metadata": {},
     "output_type": "execute_result"
    }
   ],
   "source": [
    "# 3 class play direction (left, middle, right)\n",
    "# greedy recursive feature elimination by 3-fold cross-validation\n",
    "cv_n = 3\n",
    "seed = 9\n",
    "lr = LogisticRegression(multi_class='multinomial', solver='lbfgs', class_weight='balanced')\n",
    "fSelect_dir = RFECV(lr, step=1, cv=kf, n_jobs=-1)\n",
    "fSelect_dir.fit(plays[features], plays.play_dir_code)\n",
    "features[fSelect_dir.support_]"
   ]
  },
  {
   "cell_type": "code",
   "execution_count": 31,
   "metadata": {
    "collapsed": false
   },
   "outputs": [
    {
     "data": {
      "text/plain": [
       "68"
      ]
     },
     "execution_count": 31,
     "metadata": {},
     "output_type": "execute_result"
    }
   ],
   "source": [
    "fSelect_dir.n_features_"
   ]
  },
  {
   "cell_type": "code",
   "execution_count": null,
   "metadata": {
    "collapsed": true
   },
   "outputs": [],
   "source": []
  },
  {
   "cell_type": "code",
   "execution_count": null,
   "metadata": {
    "collapsed": true
   },
   "outputs": [],
   "source": []
  }
 ],
 "metadata": {
  "kernelspec": {
   "display_name": "Python 2",
   "language": "python",
   "name": "python2"
  },
  "language_info": {
   "codemirror_mode": {
    "name": "ipython",
    "version": 2
   },
   "file_extension": ".py",
   "mimetype": "text/x-python",
   "name": "python",
   "nbconvert_exporter": "python",
   "pygments_lexer": "ipython2",
   "version": "2.7.13"
  }
 },
 "nbformat": 4,
 "nbformat_minor": 2
}
