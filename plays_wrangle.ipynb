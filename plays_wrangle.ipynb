{
 "cells": [
  {
   "cell_type": "code",
   "execution_count": 1,
   "metadata": {
    "collapsed": true
   },
   "outputs": [],
   "source": [
    "import re, math\n",
    "import pandas as pd\n",
    "import numpy as np\n",
    "import scipy as sp\n",
    "import matplotlib.pyplot as plt\n",
    "import nfldb\n",
    "import sys\n",
    "import matplotlib as mpl\n",
    "import seaborn as sns\n",
    "from __future__ import division\n",
    "#import psycopg2 as pg\n",
    "# configure matplotlib plots\n",
    "%matplotlib inline\n",
    "mpl.rcParams['font.size'] = 14\n",
    "mpl.rcParams['figure.figsize'] = [12, 9]#[10, 7.5]\n",
    "mpl.rcParams['figure.dpi'] = 90\n",
    "mpl.rcParams['savefig.dpi'] = 100\n",
    "# configure seaborn plots\n",
    "sns.set(style=\"whitegrid\", color_codes=True)\n",
    "\n",
    "yrType = '2016 Regular Season'"
   ]
  },
  {
   "cell_type": "code",
   "execution_count": 2,
   "metadata": {
    "collapsed": false,
    "scrolled": true
   },
   "outputs": [
    {
     "data": {
      "text/plain": [
       "<nfldb.query.Query at 0x7fdba00bff90>"
      ]
     },
     "execution_count": 2,
     "metadata": {},
     "output_type": "execute_result"
    }
   ],
   "source": [
    "db = nfldb.connect()\n",
    "# get object query nfldb for 2016 season, thru week 9\n",
    "q = nfldb.Query(db)\n",
    "q.game(season_year=2016, season_type='Regular')#, week__le=9)\n",
    "q.sort(('gsis_id', 'asc'))#, ('time', 'asc')])"
   ]
  },
  {
   "cell_type": "code",
   "execution_count": 3,
   "metadata": {
    "collapsed": true
   },
   "outputs": [],
   "source": [
    "# functions\n",
    "def attributeSelect(obj, startExc, endExc='xxx'):\n",
    "    return [a for a in dir(obj[0]) if not a.startswith(startExc) | a.endswith(endExc)]\n",
    "\n",
    "def attributeLists(obj, attr, plays=False):\n",
    "    # list of attributes of object\n",
    "    #attr = [x for x in dir(obj[0]) if not x.startswith(attrEx)]\n",
    "    # list of lists of attributes for object\n",
    "    data = []\n",
    "    scores = []\n",
    "    for x in obj:\n",
    "        data.append([getattr(x, a) for a in attr])\n",
    "        if plays:\n",
    "            scores.append(x.score(before=True))\n",
    "    return data, scores\n",
    "\n",
    "def icol(df, cols):\n",
    "    return [i for i, dfCol in enumerate(df.columns) for col in cols if dfCol==col]\n",
    "\n",
    "def appStrs(cols, string):\n",
    "    return [c + string for c in cols]"
   ]
  },
  {
   "cell_type": "code",
   "execution_count": 4,
   "metadata": {
    "collapsed": false,
    "scrolled": true
   },
   "outputs": [],
   "source": [
    "##################################################\n",
    "##################PLAYS DATAFRAME#################\n",
    "##################################################\n",
    "getPlayScore = True\n",
    "\n",
    "# obtain plays object\n",
    "playObj = q.as_plays()\n",
    "# get list of attributes for plays object...\n",
    "# ...exluding the tuple items below\n",
    "excludeAttr = ('_', 'kick', 'punt', 'time_', 'xp', 'sql_' , 'defense'\n",
    "               , 'fill_drives', 'from_id', 'from_row', 'play_p')\n",
    "attr = attributeSelect(playObj, excludeAttr)\n",
    "#[a for a in dir(playObj[0]) if not a.startswith(excludeAttr)]\n",
    "# collect play data into list of lists for each play and its attributes\n",
    "# ALSO, retrieve score before each play\n",
    "pLists, score_before_play = attributeLists(playObj, attr, getPlayScore)\n",
    "\n",
    "# create df with play Lists and with column names from attributes\n",
    "plays = pd.DataFrame(pLists, columns=attr)\n",
    "firstRun = True\n",
    "SHIFTED = False\n",
    "CUMSUM = False\n",
    "if getPlayScore:\n",
    "    # insert score cols\n",
    "    plays['score'] = score_before_play\n",
    "    plays[['score_home', 'score_away']] = pd.DataFrame(plays.score.values.tolist())\n",
    "    plays['score_diff'] = plays.score_home - plays.score_away\n",
    "    \n",
    "    #apply(pd.Series)\n",
    "#playObj = None\n",
    "#plays.head()"
   ]
  },
  {
   "cell_type": "code",
   "execution_count": 5,
   "metadata": {
    "collapsed": false
   },
   "outputs": [
    {
     "name": "stdout",
     "output_type": "stream",
     "text": [
      "ATTENTION: 7 plays excluded as Illegal Forward Pass\n",
      "pass left count: 7008\n",
      "pass middle count: 4494\n",
      "pass right count: 7771\n",
      "rush left count: 4515\n",
      "rush middle count: 3546\n",
      "rush right count: 4435\n"
     ]
    },
    {
     "data": {
      "text/plain": [
       "play\n",
       "pass_left      7008\n",
       "pass_middle    4494\n",
       "pass_right     7771\n",
       "rush_left      4515\n",
       "rush_middle    3546\n",
       "rush_right     4435\n",
       "dtype: int64"
      ]
     },
     "execution_count": 5,
     "metadata": {},
     "output_type": "execute_result"
    }
   ],
   "source": [
    "##################################################\n",
    "#-----------------PLAY EXTRACTION (TARGET)--------------#\n",
    "##################################################\n",
    "#pat = ' '.join(map(re.escape, ['pass', 'right']))\n",
    "playType = ['pass', 'rush']\n",
    "playDir = ['left', 'up the middle', 'right']\n",
    "plays['play'] = np.nan\n",
    "# '[A-Z]\\.[A-Z][a-z]+\\-?[a-z]+\\s' accounts for C.Newton & C.Artis-Payne\n",
    "\n",
    "# exclude plas with illegal forward passes -- noisey play, meant to be pass then run then pass\n",
    "illPass = plays.description.str.contains('Illegal Forward Pass')\n",
    "plays = plays.drop(plays[illPass].index)\n",
    "print('ATTENTION: {0} plays excluded as Illegal Forward Pass'.format(len(illPass[illPass==True])))\n",
    "playCols = []\n",
    "for t in playType:\n",
    "    for d in playDir:\n",
    "        # new col holder, slash clear col if cell is run more than once\n",
    "        plays[t+'_'+d[-6:]] = 0\n",
    "        # regular expression to search for pass\n",
    "        # --FLAWED AT .*?-- reExp = r'[A-Z]\\.[A-Z][a-z]+\\-?[a-z]+\\s' + re.escape(t) + '\\s.*?\\s' + re.escape(d[-6:])\n",
    "        \n",
    "        # looong regEx to search for  pass\n",
    "        # reExp = r'[A-Z]\\.[A-Z][a-z]+\\-?[a-z]+\\s' + re.escape(t) + '\\s[a-z]\\s' + re.escape(d[-6:]) +#eg C.Newton pass short right\n",
    "        # '|' '[A-Z]\\.[A-Z][a-z]+\\-?[a-z]+\\s' + re.escape(t) +  '\\s[a-z][a-z]\\s' + re.escape(d[-6:]) +#eg C.Newton pass incomlete short right\n",
    "        # '|' '[A-Z]\\.[A-Z][a-z]+\\-?[a-z]+\\s' + re.escape(t) +  '\\s' + re.escape(d[-6:]) #eg C.Newton pass right\n",
    "        reExp = r'[A-Z]\\.[A-Z][a-z]+\\-?[a-z]+\\s' + re.escape(t) + '\\s[a-z]+\\s' + re.escape(d[-6:]) + '|' '[A-Z]\\.[A-Z][a-z]+\\-?[a-z]+\\s' + re.escape(t) +  '\\s[a-z]+\\s[a-z]+\\s' + re.escape(d[-6:]) + '|' '[A-Z]\\.[A-Z][a-z]+\\-?[a-z]+\\s' + re.escape(t) +  '\\s' + re.escape(d[-6:]) \n",
    "    \n",
    "        # regular expression to search for rush\n",
    "        # to account for the fact that 'rush' is only sometimes included in description...\n",
    "        # ...other times just a space e.g., K.Moreno right tackle for 8 yards\n",
    "        if t=='rush':\n",
    "            # if labeling QB scrambles as run insert: \n",
    "            # + '|' + [A-Z]\\.[A-Z][a-z]+\\-?[a-z]+\\s' + '\\s'.join(re.escape('scramble'), re.escape(d))\n",
    "            reExp = r'[A-Z]\\.[A-Z][a-z]+\\-?[a-z]+\\s' + re.escape(t) + '\\s' + '|'.join([re.escape(d), '[A-Z]\\.[A-Z][a-z]+\\-?[a-z]+\\s']) + re.escape(d)\n",
    "        \n",
    "        mask = plays.description.str.contains(reExp, regex=True, flags=re.I)\n",
    "        # single col of play categories\n",
    "        plays.loc[mask, 'play'] = t + '_' + d[-6:]\n",
    "        # dummy col each target\n",
    "        plays.loc[mask, t+'_'+d[-6:]] = 1\n",
    "        playCols.append(t+'_'+d[-6:])\n",
    "        print('{0} {1} count: {2}'.format(t, d[-6:], plays[t+'_'+d[-6:]].sum()))\n",
    "plays.play = plays.play.astype('category')\n",
    "plays.groupby('play').size()"
   ]
  },
  {
   "cell_type": "code",
   "execution_count": 6,
   "metadata": {
    "collapsed": false
   },
   "outputs": [
    {
     "name": "stdout",
     "output_type": "stream",
     "text": [
      "  away_team day_of_week finished     gsis_id home_team is_playing season_type  \\\n",
      "0       CAR    Thursday     True  2016090800       DEN      False     Regular   \n",
      "1        TB      Sunday     True  2016091100       ATL      False     Regular   \n",
      "2       BUF      Sunday     True  2016091101       BAL      False     Regular   \n",
      "3       CHI      Sunday     True  2016091102       HOU      False     Regular   \n",
      "4        GB      Sunday     True  2016091103       JAC      False     Regular   \n",
      "\n",
      "   season_year                 start_time  week  \n",
      "0         2016  2016-09-08 20:30:00-04:00     1  \n",
      "1         2016  2016-09-11 13:00:00-04:00     1  \n",
      "2         2016  2016-09-11 13:00:00-04:00     1  \n",
      "3         2016  2016-09-11 13:00:00-04:00     1  \n",
      "4         2016  2016-09-11 13:00:00-04:00     1  \n"
     ]
    },
    {
     "data": {
      "text/plain": [
       "Index([u'away_team', u'day_of_week', u'finished', u'gsis_id', u'home_team',\n",
       "       u'is_playing', u'season_type', u'season_year', u'start_time', u'week'],\n",
       "      dtype='object')"
      ]
     },
     "execution_count": 6,
     "metadata": {},
     "output_type": "execute_result"
    }
   ],
   "source": [
    "##################################################\n",
    "##################GAMES DATAFRAME#################\n",
    "##################################################\n",
    "# obtain games object\n",
    "gameObj = q.as_games()\n",
    "\n",
    "# get list of attributes for games object...\n",
    "# ...exluding the tuple items below\n",
    "excludeAttr = ('_', 'from_', 'time_', 'sql_' , 'away_turnovers', 'home_turnovers'\n",
    "               , 'winner', 'score_', 'plays', 'play_p', 'players', 'away_s', 'home_s', 'drives', 'loser'\n",
    "              , 'gamekey')\n",
    "attr = attributeSelect(gameObj, excludeAttr, 'score')\n",
    "\n",
    "# construct list of lists for each game and attribute\n",
    "# from game object attributes\n",
    "gamesList, no = attributeLists(gameObj, attr)\n",
    "\n",
    "# games dataframe \n",
    "games = pd.DataFrame(gamesList, columns=attr)\n",
    "print(games.head())\n",
    "games.columns"
   ]
  },
  {
   "cell_type": "code",
   "execution_count": 7,
   "metadata": {
    "collapsed": false
   },
   "outputs": [
    {
     "name": "stdout",
     "output_type": "stream",
     "text": [
      "['drive_id', 'end_field', 'first_downs', 'game', 'gsis_id', 'play_count', 'pos_time', 'result', 'start_field', 'start_time', 'yards_gained']\n",
      "   drive_id end_field  first_downs  \\\n",
      "0        21    OWN 40            0   \n",
      "1        20    OPP 32            3   \n",
      "2        19    OWN 18            0   \n",
      "3        18    OPP 18            3   \n",
      "4        17     OPP 1            3   \n",
      "\n",
      "                                                game     gsis_id  play_count  \\\n",
      "0  Regular 2016 week 1 on 09/08 at 08:30PM, CAR (...  2016090800           2   \n",
      "1  Regular 2016 week 1 on 09/08 at 08:30PM, CAR (...  2016090800          18   \n",
      "2  Regular 2016 week 1 on 09/08 at 08:30PM, CAR (...  2016090800           6   \n",
      "3  Regular 2016 week 1 on 09/08 at 08:30PM, CAR (...  2016090800          11   \n",
      "4  Regular 2016 week 1 on 09/08 at 08:30PM, CAR (...  2016090800          13   \n",
      "\n",
      "  pos_time       result start_field start_time  yards_gained  \n",
      "0    00:04  End of Game      OWN 40   Q4 00:04            -1  \n",
      "1    03:02    Missed FG      OWN 40   Q4 03:06            28  \n",
      "2    01:15         Punt      OWN 25   Q4 04:21            -7  \n",
      "3    05:05   Field Goal      OWN 25   Q4 09:26            57  \n",
      "4    04:41    Touchdown      OPP 23   Q4 14:07            23  \n"
     ]
    },
    {
     "data": {
      "text/plain": [
       "Index([u'drive_id', u'end_field', u'first_downs', u'game', u'gsis_id',\n",
       "       u'play_count', u'pos_time', u'result', u'start_field', u'start_time',\n",
       "       u'yards_gained'],\n",
       "      dtype='object')"
      ]
     },
     "execution_count": 7,
     "metadata": {},
     "output_type": "execute_result"
    }
   ],
   "source": [
    "##################################################\n",
    "##################DRIVES DATAFRAME#################\n",
    "##################################################\n",
    "# obtain drives object\n",
    "driveObj = q.as_drives()\n",
    "\n",
    "# get list of attributes for drives object...\n",
    "# ...exluding the tuple items below\n",
    "excludeAttr = ('_', 'fill', 'score', 'from_', 'time_', 'sql_' , 'end_time', 'play_p', 'plays', 'pos_team', 'penalty_yards')\n",
    "attr = attributeSelect(driveObj, excludeAttr)\n",
    "print(attr)\n",
    "# construct list of lists for each game and attribute\n",
    "# from game object attributes\n",
    "dList, no = attributeLists(driveObj, attr)\n",
    "\n",
    "# games dataframe \n",
    "drives = pd.DataFrame(dList, columns=attr)\n",
    "print(drives.head())\n",
    "drives.columns"
   ]
  },
  {
   "cell_type": "code",
   "execution_count": 8,
   "metadata": {
    "collapsed": false
   },
   "outputs": [
    {
     "data": {
      "text/plain": [
       "False"
      ]
     },
     "execution_count": 8,
     "metadata": {},
     "output_type": "execute_result"
    }
   ],
   "source": [
    "# check for duplicate columns\n",
    "#print(plays.columns[plays.columns.duplicated()])\n",
    "plays.columns.duplicated().max()"
   ]
  },
  {
   "cell_type": "code",
   "execution_count": 9,
   "metadata": {
    "collapsed": false,
    "scrolled": true
   },
   "outputs": [],
   "source": [
    "## -------MERGE PLAYS WITH DRIVES and GAMES DF-----------\n",
    "plays = plays.merge(drives, how='left')\n",
    "plays = plays.merge(games, how='left', on='gsis_id')\n",
    "# flip score diff for away teams, to make accurate\n",
    "plays.loc[plays.pos_team == plays.away_team, 'score_diff'] = plays.loc[plays.pos_team == plays.away_team, 'score_diff'] * -1\n",
    "# plays[['score', 'score_diff', 'pos_team', 'home_team', 'play']].tail(50)\n",
    "# free memory space\n",
    "drives = None\n",
    "games = None\n",
    "driveObj = None\n",
    "gameObj = None\n",
    "#playObj = None"
   ]
  },
  {
   "cell_type": "code",
   "execution_count": 27,
   "metadata": {
    "collapsed": false
   },
   "outputs": [
    {
     "data": {
      "text/plain": [
       "'(12:48) (Shotgun) B.Osweiler scrambles up the middle to CHI 36 for 15 yards (J.Glenn).'"
      ]
     },
     "execution_count": 27,
     "metadata": {},
     "output_type": "execute_result"
    }
   ],
   "source": [
    "plays.iloc[513].description"
   ]
  },
  {
   "cell_type": "code",
   "execution_count": 10,
   "metadata": {
    "collapsed": false
   },
   "outputs": [
    {
     "name": "stdout",
     "output_type": "stream",
     "text": [
      "\n",
      "317690 - Estimated total number of usuable plays in nfldb, with current selection setup\n",
      "\n",
      "\n",
      "Excluded Plays (randomly selected from set)\n",
      "\n",
      "10888                          Timeout #1 by DAL at 00:44.\n",
      "2000     R.Bullock kicks 65 yards from NYG 35 to end zo...\n",
      "22617    (2:18) (Punt formation) M.Darr punts 34 yards ...\n",
      "22368       (:55) M.Sanchez kneels to CLE 17 for -1 yards.\n",
      "14125    D.Carpenter extra point is GOOD, Center-G.Sanb...\n",
      "13727    (7:01) A.Lee punts 39 yards to TB 21, Center-J...\n",
      "7213     (1:55) D.Hopkins 37 yard field goal is GOOD, C...\n",
      "13250    G.Zuerlein kicks 65 yards from LA 35 to end zo...\n",
      "11408    (6:34) (No Huddle, Shotgun) B.Gabbert scramble...\n",
      "34215    (9:36) M.Palardy punts 46 yards to end zone, C...\n",
      "Name: description, dtype: object\n",
      "\n",
      "No Overalapping Play Labels Present!!\n",
      "\n",
      "\n",
      "692 QB scrambles\n",
      "\n",
      "\n",
      "121 Passes with No Direction description\n",
      "\n",
      "\n",
      "Example of Pass with no Direction description:\n"
     ]
    },
    {
     "data": {
      "text/plain": [
       "31215    TWO-POINT CONVERSION ATTEMPT. A.Smith pass to ...\n",
       "25963    (Pass formation) TWO-POINT CONVERSION ATTEMPT....\n",
       "14853    END GAME NE 12-Brady 47th career game with 3+ ...\n",
       "Name: description, dtype: object"
      ]
     },
     "execution_count": 10,
     "metadata": {},
     "output_type": "execute_result"
    }
   ],
   "source": [
    "##################################################\n",
    "#-----------------INTEGRITY CHECK--------------#\n",
    "##################################################\n",
    "print('\\n{0} - Estimated total number of usuable plays in nfldb, with current selection setup\\n'.format(plays[plays.play.notnull()].shape[0]*10))\n",
    "#------------CHECK OF EXCLUDED PLAYS-----------#\n",
    "exPlays = plays.loc[plays.play.isnull(), ['description', 'gsis_id', 'drive_id']]\n",
    "exPlays.head(5)\n",
    "randIdx = np.random.randint(0, exPlays.shape[0], 10)\n",
    "print('\\nExcluded Plays (randomly selected from set)\\n')\n",
    "print(exPlays.iloc[randIdx].description)\n",
    "\n",
    "#######-------CHECK FOR OVERLAPING PLAY LABELS-----###########\n",
    "all_overlap = plays[(plays.rush_left+plays.rush_middle+plays.rush_right+plays.pass_left+plays.pass_middle+plays.pass_right)>1].description\n",
    "pass_overlap = plays[(plays.pass_left+plays.pass_middle+plays.pass_right)>1].description\n",
    "pass_exclusive = plays[(plays.pass_left+plays.pass_middle+plays.pass_right)==1].description\n",
    "#print(all_overlap.shape[0]-pass_overlap.shape[0])\n",
    "#print(plays[(plays.rush_right+plays.pass_right)>1].description)\n",
    "\n",
    "if all_overlap.shape[0]==0:\n",
    "    print('\\nNo Overalapping Play Labels Present!!\\n')\n",
    "else:\n",
    "    print('\\nATTENTION: Overlapping Play lables exist, examples:\\n')\n",
    "    print(all_overlap[:5])\n",
    "\n",
    "#######-------Number of QB scrambles runs-----###########\n",
    "scramble_n = plays[plays.description.str.contains('scrambles')].shape[0]\n",
    "print('\\n{0} QB scrambles\\n'.format(scramble_n))\n",
    "#plays[plays.description.str.contains('scrambles')].description\n",
    "\n",
    "\n",
    "#######-------PASSES with NO Direction in description-----###########\n",
    "noDirPass = exPlays[exPlays.description.str.contains('pass')]\n",
    "print('\\n{0} Passes with No Direction description\\n'.format(noDirPass.shape[0]))\n",
    "print('\\nExample of Pass with no Direction description:')\n",
    "noDirPass.iloc[np.random.randint(0, noDirPass.shape[0], 3)].description #idx: 21266, 4525"
   ]
  },
  {
   "cell_type": "code",
   "execution_count": 11,
   "metadata": {
    "collapsed": true
   },
   "outputs": [],
   "source": [
    "# create seperate play type and play direction labels\n",
    "plays[['play_type', 'play_dir']] = plays.play.str.split('_').apply(pd.Series)\n",
    "# create dummy vectors for cummulated proportions\n",
    "plays = pd.concat([plays,\n",
    "                   pd.get_dummies(plays['play_type'], prefix='type'),\n",
    "                   pd.get_dummies(plays['play_dir'], prefix='dir')], axis=1)"
   ]
  },
  {
   "cell_type": "code",
   "execution_count": 12,
   "metadata": {
    "collapsed": false
   },
   "outputs": [
    {
     "data": {
      "text/html": [
       "<div>\n",
       "<table border=\"1\" class=\"dataframe\">\n",
       "  <thead>\n",
       "    <tr style=\"text-align: right;\">\n",
       "      <th></th>\n",
       "      <th>description</th>\n",
       "      <th>down</th>\n",
       "      <th>drive</th>\n",
       "      <th>drive_id</th>\n",
       "      <th>first_down</th>\n",
       "      <th>fourth_down_att</th>\n",
       "      <th>fourth_down_conv</th>\n",
       "      <th>fourth_down_failed</th>\n",
       "      <th>fumbles_forced</th>\n",
       "      <th>fumbles_lost</th>\n",
       "      <th>...</th>\n",
       "      <th>season_year</th>\n",
       "      <th>start_time_y</th>\n",
       "      <th>week</th>\n",
       "      <th>play_type</th>\n",
       "      <th>play_dir</th>\n",
       "      <th>type_pass</th>\n",
       "      <th>type_rush</th>\n",
       "      <th>dir_left</th>\n",
       "      <th>dir_middle</th>\n",
       "      <th>dir_right</th>\n",
       "    </tr>\n",
       "  </thead>\n",
       "  <tbody>\n",
       "    <tr>\n",
       "      <th>0</th>\n",
       "      <td>G.Gano kicks 65 yards from CAR 35 to end zone,...</td>\n",
       "      <td>NaN</td>\n",
       "      <td>[Fumble      ] DEN from OWN 25 to OPP 29 (last...</td>\n",
       "      <td>1</td>\n",
       "      <td>0</td>\n",
       "      <td>0</td>\n",
       "      <td>0</td>\n",
       "      <td>0</td>\n",
       "      <td>0</td>\n",
       "      <td>0</td>\n",
       "      <td>...</td>\n",
       "      <td>2016</td>\n",
       "      <td>2016-09-08 20:30:00-04:00</td>\n",
       "      <td>1</td>\n",
       "      <td>NaN</td>\n",
       "      <td>NaN</td>\n",
       "      <td>0</td>\n",
       "      <td>0</td>\n",
       "      <td>0</td>\n",
       "      <td>0</td>\n",
       "      <td>0</td>\n",
       "    </tr>\n",
       "    <tr>\n",
       "      <th>1</th>\n",
       "      <td>(15:00) T.Siemian pass short left to D.Thomas ...</td>\n",
       "      <td>1.0</td>\n",
       "      <td>[Fumble      ] DEN from OWN 25 to OPP 29 (last...</td>\n",
       "      <td>1</td>\n",
       "      <td>1</td>\n",
       "      <td>0</td>\n",
       "      <td>0</td>\n",
       "      <td>0</td>\n",
       "      <td>0</td>\n",
       "      <td>0</td>\n",
       "      <td>...</td>\n",
       "      <td>2016</td>\n",
       "      <td>2016-09-08 20:30:00-04:00</td>\n",
       "      <td>1</td>\n",
       "      <td>pass</td>\n",
       "      <td>left</td>\n",
       "      <td>1</td>\n",
       "      <td>0</td>\n",
       "      <td>1</td>\n",
       "      <td>0</td>\n",
       "      <td>0</td>\n",
       "    </tr>\n",
       "    <tr>\n",
       "      <th>2</th>\n",
       "      <td>(14:17) T.Siemian pass incomplete short right ...</td>\n",
       "      <td>1.0</td>\n",
       "      <td>[Fumble      ] DEN from OWN 25 to OPP 29 (last...</td>\n",
       "      <td>1</td>\n",
       "      <td>0</td>\n",
       "      <td>0</td>\n",
       "      <td>0</td>\n",
       "      <td>0</td>\n",
       "      <td>0</td>\n",
       "      <td>0</td>\n",
       "      <td>...</td>\n",
       "      <td>2016</td>\n",
       "      <td>2016-09-08 20:30:00-04:00</td>\n",
       "      <td>1</td>\n",
       "      <td>pass</td>\n",
       "      <td>right</td>\n",
       "      <td>1</td>\n",
       "      <td>0</td>\n",
       "      <td>0</td>\n",
       "      <td>0</td>\n",
       "      <td>1</td>\n",
       "    </tr>\n",
       "    <tr>\n",
       "      <th>3</th>\n",
       "      <td>(14:13) T.Siemian pass incomplete short right ...</td>\n",
       "      <td>2.0</td>\n",
       "      <td>[Fumble      ] DEN from OWN 25 to OPP 29 (last...</td>\n",
       "      <td>1</td>\n",
       "      <td>0</td>\n",
       "      <td>0</td>\n",
       "      <td>0</td>\n",
       "      <td>0</td>\n",
       "      <td>0</td>\n",
       "      <td>0</td>\n",
       "      <td>...</td>\n",
       "      <td>2016</td>\n",
       "      <td>2016-09-08 20:30:00-04:00</td>\n",
       "      <td>1</td>\n",
       "      <td>pass</td>\n",
       "      <td>right</td>\n",
       "      <td>1</td>\n",
       "      <td>0</td>\n",
       "      <td>0</td>\n",
       "      <td>0</td>\n",
       "      <td>1</td>\n",
       "    </tr>\n",
       "    <tr>\n",
       "      <th>4</th>\n",
       "      <td>(14:08) (Shotgun) T.Siemian pass short left to...</td>\n",
       "      <td>3.0</td>\n",
       "      <td>[Fumble      ] DEN from OWN 25 to OPP 29 (last...</td>\n",
       "      <td>1</td>\n",
       "      <td>1</td>\n",
       "      <td>0</td>\n",
       "      <td>0</td>\n",
       "      <td>0</td>\n",
       "      <td>0</td>\n",
       "      <td>0</td>\n",
       "      <td>...</td>\n",
       "      <td>2016</td>\n",
       "      <td>2016-09-08 20:30:00-04:00</td>\n",
       "      <td>1</td>\n",
       "      <td>pass</td>\n",
       "      <td>left</td>\n",
       "      <td>1</td>\n",
       "      <td>0</td>\n",
       "      <td>1</td>\n",
       "      <td>0</td>\n",
       "      <td>0</td>\n",
       "    </tr>\n",
       "  </tbody>\n",
       "</table>\n",
       "<p>5 rows × 102 columns</p>\n",
       "</div>"
      ],
      "text/plain": [
       "                                         description  down  \\\n",
       "0  G.Gano kicks 65 yards from CAR 35 to end zone,...   NaN   \n",
       "1  (15:00) T.Siemian pass short left to D.Thomas ...   1.0   \n",
       "2  (14:17) T.Siemian pass incomplete short right ...   1.0   \n",
       "3  (14:13) T.Siemian pass incomplete short right ...   2.0   \n",
       "4  (14:08) (Shotgun) T.Siemian pass short left to...   3.0   \n",
       "\n",
       "                                               drive  drive_id  first_down  \\\n",
       "0  [Fumble      ] DEN from OWN 25 to OPP 29 (last...         1           0   \n",
       "1  [Fumble      ] DEN from OWN 25 to OPP 29 (last...         1           1   \n",
       "2  [Fumble      ] DEN from OWN 25 to OPP 29 (last...         1           0   \n",
       "3  [Fumble      ] DEN from OWN 25 to OPP 29 (last...         1           0   \n",
       "4  [Fumble      ] DEN from OWN 25 to OPP 29 (last...         1           1   \n",
       "\n",
       "   fourth_down_att  fourth_down_conv  fourth_down_failed  fumbles_forced  \\\n",
       "0                0                 0                   0               0   \n",
       "1                0                 0                   0               0   \n",
       "2                0                 0                   0               0   \n",
       "3                0                 0                   0               0   \n",
       "4                0                 0                   0               0   \n",
       "\n",
       "   fumbles_lost    ...      season_year               start_time_y  week  \\\n",
       "0             0    ...             2016  2016-09-08 20:30:00-04:00     1   \n",
       "1             0    ...             2016  2016-09-08 20:30:00-04:00     1   \n",
       "2             0    ...             2016  2016-09-08 20:30:00-04:00     1   \n",
       "3             0    ...             2016  2016-09-08 20:30:00-04:00     1   \n",
       "4             0    ...             2016  2016-09-08 20:30:00-04:00     1   \n",
       "\n",
       "   play_type  play_dir  type_pass type_rush dir_left dir_middle  dir_right  \n",
       "0        NaN       NaN          0         0        0          0          0  \n",
       "1       pass      left          1         0        1          0          0  \n",
       "2       pass     right          1         0        0          0          1  \n",
       "3       pass     right          1         0        0          0          1  \n",
       "4       pass      left          1         0        1          0          0  \n",
       "\n",
       "[5 rows x 102 columns]"
      ]
     },
     "execution_count": 12,
     "metadata": {},
     "output_type": "execute_result"
    }
   ],
   "source": [
    "plays.head()"
   ]
  },
  {
   "cell_type": "code",
   "execution_count": 13,
   "metadata": {
    "collapsed": false
   },
   "outputs": [],
   "source": [
    "# exclude rows for non-selected plays (null plays)\n",
    "plays = plays[plays.play.notnull()]\n",
    "\n",
    "# cum sum stats columns\n",
    "col2cum = [c for c in plays.columns for x in ['type', 'dir', 'first', 'third', 'fourth', 'penalty', 'offense', 'passing', 'receiving', 'rushing'] if c.startswith(x) and not c.endswith('downs')]\n",
    "gcumCols = appStrs(col2cum, '_cum_gm')\n",
    "dcumCols = appStrs(col2cum, '_cum_dr')\n",
    "# multilevel index and sort the index levels for cumsum and shift below\n",
    "plays = plays.set_index(['gsis_id', 'pos_team', 'drive_id']).sortlevel()\n",
    "# plays.iloc[34:74, icol(plays, dcumCols)]\n",
    "# icol(plays, dcumCols)"
   ]
  },
  {
   "cell_type": "code",
   "execution_count": 14,
   "metadata": {
    "collapsed": false,
    "scrolled": true
   },
   "outputs": [
    {
     "data": {
      "text/plain": [
       "['first_down',\n",
       " 'fourth_down_att',\n",
       " 'fourth_down_conv',\n",
       " 'fourth_down_failed',\n",
       " 'offense_tds',\n",
       " 'offense_yds',\n",
       " 'passing_att',\n",
       " 'passing_cmp',\n",
       " 'passing_cmp_air_yds',\n",
       " 'passing_first_down',\n",
       " 'passing_incmp',\n",
       " 'passing_incmp_air_yds',\n",
       " 'passing_int',\n",
       " 'passing_sk',\n",
       " 'passing_sk_yds',\n",
       " 'passing_tds',\n",
       " 'passing_twopta',\n",
       " 'passing_twoptm',\n",
       " 'passing_twoptmissed',\n",
       " 'passing_yds',\n",
       " 'penalty',\n",
       " 'penalty_first_down',\n",
       " 'penalty_yds',\n",
       " 'receiving_rec',\n",
       " 'receiving_tar',\n",
       " 'receiving_tds',\n",
       " 'receiving_twopta',\n",
       " 'receiving_twoptm',\n",
       " 'receiving_twoptmissed',\n",
       " 'receiving_yac_yds',\n",
       " 'receiving_yds',\n",
       " 'rushing_att',\n",
       " 'rushing_first_down',\n",
       " 'rushing_loss',\n",
       " 'rushing_loss_yds',\n",
       " 'rushing_tds',\n",
       " 'rushing_twopta',\n",
       " 'rushing_twoptm',\n",
       " 'rushing_twoptmissed',\n",
       " 'rushing_yds',\n",
       " 'third_down_att',\n",
       " 'third_down_conv',\n",
       " 'third_down_failed',\n",
       " 'type_pass',\n",
       " 'type_rush',\n",
       " 'dir_left',\n",
       " 'dir_middle',\n",
       " 'dir_right']"
      ]
     },
     "execution_count": 14,
     "metadata": {},
     "output_type": "execute_result"
    }
   ],
   "source": [
    "col2cum"
   ]
  },
  {
   "cell_type": "code",
   "execution_count": 15,
   "metadata": {
    "collapsed": false
   },
   "outputs": [
    {
     "name": "stdout",
     "output_type": "stream",
     "text": [
      "Accumulating Stats...\n"
     ]
    },
    {
     "name": "stderr",
     "output_type": "stream",
     "text": [
      "/home/jsync/anaconda3/envs/py2/lib/python2.7/site-packages/pandas/core/frame.py:2440: SettingWithCopyWarning: \n",
      "A value is trying to be set on a copy of a slice from a DataFrame.\n",
      "Try using .loc[row_indexer,col_indexer] = value instead\n",
      "\n",
      "See the caveats in the documentation: http://pandas.pydata.org/pandas-docs/stable/indexing.html#indexing-view-versus-copy\n",
      "  self[k1] = value[k2]\n"
     ]
    }
   ],
   "source": [
    "# checker to avoid Accumulating twice\n",
    "if not CUMSUM:\n",
    "    print('Accumulating Stats...')\n",
    "    dfc = None\n",
    "    dfc = plays[col2cum]\n",
    "    # duplicate cols to cum\n",
    "    dfc[dcumCols] = dfc[col2cum]\n",
    "    dfc[gcumCols] = dfc[col2cum]\n",
    "    cumCols = dcumCols + gcumCols\n",
    "\n",
    "    ##------- Cumulate Stats across Plays for each Team and separately for each Drive within a Game -----##\n",
    "    dc = dfc.groupby(level=[0, 1, 2])[dcumCols].cumsum()\n",
    "    ###------- Cumulate Stats across Plays for each Team over drives within a Game -----###\n",
    "    gc = dfc.groupby(level=[0, 1])[gcumCols].cumsum()\n",
    "    #update checker\n",
    "    CUMSUM = True\n",
    "    #plays = plays.drop(cumCols, axis=1)\n",
    "    dfc = None\n",
    "    #print(dc.iloc[35:75, :])"
   ]
  },
  {
   "cell_type": "code",
   "execution_count": 16,
   "metadata": {
    "collapsed": false
   },
   "outputs": [
    {
     "name": "stdout",
     "output_type": "stream",
     "text": [
      "Shifting Stats...\n",
      "((31769, 99), (31769, 48), (31769, 48))\n",
      "[]\n",
      "(31769, 195)\n"
     ]
    }
   ],
   "source": [
    "# checker to avoid shifting and NaNing twice\n",
    "if not SHIFTED:\n",
    "    print('Shifting Stats...')\n",
    "    # concatenate rows of plays and cumsum dfs\n",
    "    df = None\n",
    "    print(plays.shape, dc.shape, gc.shape)\n",
    "    df = pd.concat([plays, dc, gc], axis=1)\n",
    "    print(icol(plays, dcumCols))\n",
    "    print(df.shape)\n",
    "    col2shift = col2cum + dcumCols + gcumCols\n",
    "    # shift selected rows down 1, so that current play stats aren't leaked into the model\n",
    "    dfs = df[col2shift].shift(1)\n",
    "    \n",
    "    # NaN For drive cum cols: Set 1st play of each teams drives to prevent accumulating stats across teams AND drives\n",
    "    dfs.iloc[plays.groupby(level=[0, 1, 2]).size().cumsum()[:-1], icol(dfs, dcumCols)] = np.nan\n",
    "    # NaN For game cum cols: Set 1st play of each team to prevent accumlating stats across teams\n",
    "    dfs.iloc[plays.groupby(level=[0, 1]).size().cumsum()[:-1], icol(dfs, gcumCols)] = np.nan\n",
    "    dfs.iloc[plays.groupby(level=[0, 1]).size().cumsum()[:-1], icol(dfs, col2cum)] = np.nan\n",
    "   \n",
    "    #update checker\n",
    "    SHIFTED = True\n",
    "    df = None\n",
    "    #print(dfs.iloc[35:75, icol(dfd, dcumCols)])"
   ]
  },
  {
   "cell_type": "code",
   "execution_count": 17,
   "metadata": {
    "collapsed": false
   },
   "outputs": [
    {
     "data": {
      "text/plain": [
       "(31769, 249)"
      ]
     },
     "execution_count": 17,
     "metadata": {},
     "output_type": "execute_result"
    }
   ],
   "source": [
    "# COMBINE shifted columns into main df - plays\n",
    "# prevent column name overlap when concatenating shifted dfs with plays\n",
    "# rename individual stats columns with appended '_sh1' - shifted 1 play forward\n",
    "dfs.rename(index=str, columns=dict(zip(col2cum, appStrs(col2cum, '_sh1'))), inplace=True)\n",
    "df = pd.concat([plays.reset_index(), dfs.reset_index()], axis=1)\n",
    "plays, dfs = None, None\n",
    "plays = df\n",
    "df = None\n",
    "plays.shape"
   ]
  },
  {
   "cell_type": "code",
   "execution_count": 18,
   "metadata": {
    "collapsed": false
   },
   "outputs": [
    {
     "name": "stdout",
     "output_type": "stream",
     "text": [
      "Duplicate column names:\n",
      "\n",
      "Index([u'first_down_sh1', u'fourth_down_att_sh1', u'fourth_down_conv_sh1'], dtype='object')\n"
     ]
    },
    {
     "name": "stderr",
     "output_type": "stream",
     "text": [
      "/home/jsync/anaconda3/envs/py2/lib/python2.7/site-packages/pandas/indexes/base.py:1434: VisibleDeprecationWarning: boolean index did not match indexed array along dimension 0; dimension is 246 but corresponding boolean dimension is 249\n",
      "  result = getitem(key)\n"
     ]
    }
   ],
   "source": [
    "# Remove duplicate columns\n",
    "print('Duplicate column names:\\n')\n",
    "# duplicate columns boolean\n",
    "dupCol = plays.columns.duplicated()\n",
    "plays = plays.iloc[:, [i for i, c in enumerate(plays.columns) if not dupCol[i]]]\n",
    "duplicateCols = plays.columns[dupCol]\n",
    "print(duplicateCols)"
   ]
  },
  {
   "cell_type": "code",
   "execution_count": 30,
   "metadata": {
    "collapsed": false,
    "scrolled": true
   },
   "outputs": [],
   "source": [
    "# extract quarter # and game clock time and produce their own columns\n",
    "plays['time'] = plays.time.astype('str')\n",
    "plays[['quarter', 'qtr_time']] = plays['time'].apply(lambda x: x.split(' ')).apply(pd.Series)"
   ]
  },
  {
   "cell_type": "code",
   "execution_count": 36,
   "metadata": {
    "collapsed": false
   },
   "outputs": [
    {
     "data": {
      "text/plain": [
       "array([1, 2, 3, 4, 5])"
      ]
     },
     "execution_count": 36,
     "metadata": {},
     "output_type": "execute_result"
    }
   ],
   "source": [
    "# adjust quarter and game clock data types, ordinal and time respectively\n",
    "quarter_mapping = {'Q1': 1, 'Q2': 2, 'Q3': 3, 'Q4': 4, 'OT': 5}\n",
    "\n",
    "# numeric quarter codes\n",
    "plays['quarter_code'] = plays.quarter.map(quarter_mapping)\n",
    "plays.quarter_code.unique()"
   ]
  },
  {
   "cell_type": "code",
   "execution_count": 37,
   "metadata": {
    "collapsed": false,
    "scrolled": true
   },
   "outputs": [
    {
     "data": {
      "text/plain": [
       "quarter     category\n",
       "qtr_time      object\n",
       "dtype: object"
      ]
     },
     "execution_count": 37,
     "metadata": {},
     "output_type": "execute_result"
    }
   ],
   "source": [
    "## make time object\n",
    "plays.qrt_time = pd.to_datetime(plays.qtr_time, format='%M:%S').dt.time\n",
    "plays[['quarter', 'qtr_time']].dtypes"
   ]
  },
  {
   "cell_type": "code",
   "execution_count": 39,
   "metadata": {
    "collapsed": true
   },
   "outputs": [],
   "source": [
    "# convert quarter time to min and sec floats for machine learning\n",
    "plays[['qtr_min', 'qtr_sec']] = plays.qtr_time.apply(lambda x: x.split(':')).apply(pd.Series).astype('float')\n",
    "plays.qtr_sec /= 60"
   ]
  },
  {
   "cell_type": "code",
   "execution_count": 40,
   "metadata": {
    "collapsed": false,
    "scrolled": true
   },
   "outputs": [
    {
     "data": {
      "text/plain": [
       "0        11.616667\n",
       "1        11.016667\n",
       "2        10.350000\n",
       "3         9.650000\n",
       "4         9.583333\n",
       "5         8.916667\n",
       "6         8.116667\n",
       "7         7.333333\n",
       "8         1.050000\n",
       "9         0.916667\n",
       "10        0.200000\n",
       "11       12.150000\n",
       "12       11.466667\n",
       "13       11.333333\n",
       "14       10.700000\n",
       "15       10.100000\n",
       "16        9.416667\n",
       "17        8.800000\n",
       "18        8.200000\n",
       "19        7.566667\n",
       "20        6.883333\n",
       "21        6.833333\n",
       "22        6.616667\n",
       "23        5.983333\n",
       "24        5.916667\n",
       "25        5.283333\n",
       "26        4.683333\n",
       "27        4.000000\n",
       "28        3.116667\n",
       "29        1.750000\n",
       "           ...    \n",
       "31739     8.550000\n",
       "31740     7.916667\n",
       "31741     6.750000\n",
       "31742     6.250000\n",
       "31743     5.666667\n",
       "31744     5.583333\n",
       "31745     5.033333\n",
       "31746     2.866667\n",
       "31747     2.216667\n",
       "31748     0.466667\n",
       "31749     0.133333\n",
       "31750     0.066667\n",
       "31751    11.633333\n",
       "31752    10.933333\n",
       "31753     8.083333\n",
       "31754     7.466667\n",
       "31755     6.866667\n",
       "31756     4.983333\n",
       "31757     4.550000\n",
       "31758     3.983333\n",
       "31759    14.133333\n",
       "31760    13.550000\n",
       "31761    12.933333\n",
       "31762    12.366667\n",
       "31763    11.700000\n",
       "31764     8.066667\n",
       "31765     7.350000\n",
       "31766     6.633333\n",
       "31767     6.266667\n",
       "31768     5.850000\n",
       "Name: qtr_timef, dtype: float64"
      ]
     },
     "execution_count": 40,
     "metadata": {},
     "output_type": "execute_result"
    }
   ],
   "source": [
    "# create full quarter time\n",
    "plays['qtr_timef'] = plays.qtr_min + plays.qtr_sec\n",
    "plays['qtr_timef']"
   ]
  },
  {
   "cell_type": "code",
   "execution_count": null,
   "metadata": {
    "collapsed": true
   },
   "outputs": [],
   "source": [
    "# remove colon from timezone\n",
    "plays.start_time_y = plays.start_time_y.apply(lambda x: x[:-3] + '00')"
   ]
  },
  {
   "cell_type": "code",
   "execution_count": null,
   "metadata": {
    "collapsed": true
   },
   "outputs": [],
   "source": [
    "# get game start time, west coast teams struggle with 1 pm EST kickoff\n",
    "plays['start_time_gm'] = pd.to_datetime(plays.start_time_y, format='%Y-%m-%d %H:%M:%S').dt.time.astype('str')\n",
    "plays[['st_hr', 'st_min', 'st_sec']] = plays.start_time_gm.str.split(':').apply(pd.Series)#.astype('float')\n",
    "plays['st_tz'] = plays.start_time_y.apply(lambda x: x[-3:-2])"
   ]
  },
  {
   "cell_type": "code",
   "execution_count": null,
   "metadata": {
    "collapsed": true
   },
   "outputs": [],
   "source": [
    "plays.start_time_gm.unique()"
   ]
  },
  {
   "cell_type": "code",
   "execution_count": null,
   "metadata": {
    "collapsed": true
   },
   "outputs": [],
   "source": [
    "plays['start_timef_gm'] = plays.st_hr.astype(int) + (plays.st_min.astype(int) / 60)\n",
    "plays.start_timef_gm[:5]"
   ]
  },
  {
   "cell_type": "code",
   "execution_count": null,
   "metadata": {
    "collapsed": true
   },
   "outputs": [],
   "source": [
    "# home field advantage feature; 1 = home team\n",
    "plays.loc[plays.home_team==plays.pos_team, 'home'] = 1\n",
    "plays.home = plays.home.fillna(0).astype('int')"
   ]
  },
  {
   "cell_type": "code",
   "execution_count": null,
   "metadata": {
    "collapsed": true
   },
   "outputs": [],
   "source": [
    "# EXTRACT side of FIELD and YARD number from YARDLINE\n",
    "plays[['field', 'yard']] = plays.yardline.str.split(' ').apply(pd.Series)"
   ]
  },
  {
   "cell_type": "code",
   "execution_count": null,
   "metadata": {
    "collapsed": true
   },
   "outputs": [],
   "source": [
    "# convert yard values for rescaling below\n",
    "plays.loc[plays.field=='MIDFIELD', 'yard'] = 50\n",
    "plays.yard = plays.yard.astype('int')\n",
    "plays['yardfield'] = plays.yard\n",
    "\n",
    "# scale yardline from 1-99.\n",
    "# yardline 49-1 in your on own side of the field are 51-99.\n",
    "# i.e., you're farther away from your scoring endzone (the opponent's endzone)\n",
    "plays.loc[plays.field=='OWN', 'yardfield'] = plays.loc[plays.field=='OWN', 'yardfield'].apply(lambda x: 50 + (50 - x))"
   ]
  },
  {
   "cell_type": "code",
   "execution_count": null,
   "metadata": {
    "collapsed": true
   },
   "outputs": [],
   "source": [
    "# assign feature for team on defense\n",
    "plays.loc[plays.pos_team==plays.home_team, 'def_team'] = plays.loc[plays.pos_team==plays.home_team, 'away_team']\n",
    "plays.loc[plays.pos_team==plays.away_team, 'def_team'] = plays.loc[plays.pos_team==plays.away_team, 'home_team']"
   ]
  },
  {
   "cell_type": "code",
   "execution_count": null,
   "metadata": {
    "collapsed": true
   },
   "outputs": [],
   "source": [
    "# create dummy vectors for categorical dummy features\n",
    "plays = pd.concat([plays, pd.get_dummies(plays['pos_team'], prefix='off')], axis=1)\n",
    "plays = pd.concat([plays, pd.get_dummies(plays['def_team'], prefix='def')], axis=1)\n",
    "plays = pd.concat([plays, pd.get_dummies(plays['day_of_week'], prefix='day')], axis=1)\n",
    "plays.head()"
   ]
  },
  {
   "cell_type": "code",
   "execution_count": 41,
   "metadata": {
    "collapsed": true
   },
   "outputs": [],
   "source": [
    "# SAVE to csv\n",
    "plays.to_csv('data/2016_reg_plays_gd.csv', index=False)"
   ]
  },
  {
   "cell_type": "code",
   "execution_count": null,
   "metadata": {
    "collapsed": true
   },
   "outputs": [],
   "source": [
    "# incoporate new features and dummy cols in features array\n",
    "adfeat = ['quarter_code', 'qtr_timef', 'down', 'yards_to_go', 'score_diff', 'week', 'home', 'yardfield', 'start_timef_gm']\n",
    "dumPrefix = ['off_', 'def_', 'day_']\n",
    "catExc = ['pos_team', 'def_team', 'day_of_week']\n",
    "dumCols = [c for c in plays.columns for d in dumPrefix if c.startswith(d) and c not in catExc]\n",
    "features = cumCols + prevPlay + adfeat + dumCols\n",
    "features"
   ]
  },
  {
   "cell_type": "code",
   "execution_count": null,
   "metadata": {
    "collapsed": true
   },
   "outputs": [],
   "source": [
    "excFeatures = ['receiving_tar_sh1',\n",
    "               'receiving_tar_cum_gm',\n",
    "               'receiving_tar_cum_dr',\n",
    "               'receiving_yds_sh1',\n",
    "               'receiving_yds_cum_gm',\n",
    "               'receiving_yds_cum_dr',\n",
    "               'rushing_first_down_cum_dr', \n",
    "               'offense_tds_sh1', \n",
    "               'third_down_att_sh1', \n",
    "               'fourth_down_conv_cum_dr', \n",
    "               'fourth_down_conv_cum_gm', \n",
    "               'third_down_failed_cum_dr', \n",
    "               'passing_cmp_air_yds_cum_gm', \n",
    "               'third_down_failed_sh1', \n",
    "               'third_down_failed_cum_dr']\n",
    "features = [feat for feat in features if feat not in excFeatures]\n",
    "features = [f for f in features if 'twopt' not in f]\n",
    "print(len(features))\n",
    "features"
   ]
  },
  {
   "cell_type": "code",
   "execution_count": null,
   "metadata": {
    "collapsed": true
   },
   "outputs": [],
   "source": [
    "np.save('data/features_dum', features)"
   ]
  }
 ],
 "metadata": {
  "kernelspec": {
   "display_name": "Python 2",
   "language": "python",
   "name": "python2"
  },
  "language_info": {
   "codemirror_mode": {
    "name": "ipython",
    "version": 2
   },
   "file_extension": ".py",
   "mimetype": "text/x-python",
   "name": "python",
   "nbconvert_exporter": "python",
   "pygments_lexer": "ipython2",
   "version": "2.7.13"
  }
 },
 "nbformat": 4,
 "nbformat_minor": 2
}
